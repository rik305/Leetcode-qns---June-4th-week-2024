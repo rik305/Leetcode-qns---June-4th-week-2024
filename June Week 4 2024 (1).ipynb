{
 "cells": [
  {
   "cell_type": "markdown",
   "metadata": {},
   "source": [
    "    11. Container With Most Water\n",
    "\n",
    "You are given an integer array height of length n. There are n vertical lines drawn such that the two endpoints of the ith line are (i, 0) and (i, height[i]).\n",
    "\n",
    "Find two lines that together with the x-axis form a container, such that the container contains the most water.\n",
    "\n",
    "Return the maximum amount of water a container can store.\n",
    "\n",
    "Notice that you may not slant the container.\n"
   ]
  },
  {
   "cell_type": "code",
   "execution_count": null,
   "metadata": {},
   "outputs": [],
   "source": [
    "class Solution(object):\n",
    "    def maxArea(self, height):\n",
    "        \"\"\"\n",
    "        :type height: List[int]\n",
    "        :rtype: int\n",
    "        \"\"\"\n",
    "        vmax = 0\n",
    "        vol = 0\n",
    "        first = 0\n",
    "        last = len(height)-1\n",
    "        for i in range(len(height)):\n",
    "            if last == first:\n",
    "                return vmax\n",
    "            if height[last] >= height[first]:\n",
    "                vol = height[first] * (last-first)\n",
    "                first +=1\n",
    "            else:\n",
    "                vol = height[last] * (last-first)\n",
    "                last -=1\n",
    "            if vol > vmax:\n",
    "                vmax = vol"
   ]
  },
  {
   "cell_type": "markdown",
   "metadata": {},
   "source": [
    "\n",
    "    2490. Circular Sentence\n",
    "\n",
    "A sentence is a list of words that are separated by a single space with no leading or trailing spaces.\n",
    "\n",
    "For example, \"Hello World\", \"HELLO\", \"hello world hello world\" are all sentences.\n",
    "Words consist of only uppercase and lowercase English letters. Uppercase and lowercase English letters are considered different.\n",
    "\n",
    "A sentence is circular if:\n",
    "\n",
    "The last character of a word is equal to the first character of the next word.\n",
    "The last character of the last word is equal to the first character of the first word.\n",
    "For example, \"leetcode exercises sound delightful\", \"eetcode\", \"leetcode eats soul\" are all circular sentences. However, \"Leetcode is cool\", \"happy Leetcode\", \"Leetcode\" and \"I like Leetcode\" are not circular sentences.\n",
    "\n",
    "Given a string sentence, return true if it is circular. Otherwise, return false"
   ]
  },
  {
   "cell_type": "code",
   "execution_count": null,
   "metadata": {},
   "outputs": [],
   "source": [
    "if sentence[0] != sentence[-1]:\n",
    "            return False\n",
    "        words = sentence.split()\n",
    "        for i in range(len(words)-1):\n",
    "            if words[i][-1] != words[i+1][0]:\n",
    "                return False\n",
    "        return True"
   ]
  },
  {
   "cell_type": "markdown",
   "metadata": {},
   "source": [
    "    58. Length of Last Word\n",
    "Given a string s consisting of words and spaces, return the length of the last word in the string.\n",
    "\n",
    "A word is a maximal substring consisting of non-space characters only."
   ]
  },
  {
   "cell_type": "code",
   "execution_count": null,
   "metadata": {},
   "outputs": [],
   "source": [
    "class Solution(object):\n",
    "    def lengthOfLastWord(self, s):\n",
    "        \"\"\"\n",
    "        :type s: str\n",
    "        :rtype: int\n",
    "        \"\"\"\n",
    "        words = s.split()\n",
    "        return len(words[-1])"
   ]
  },
  {
   "cell_type": "markdown",
   "metadata": {},
   "source": [
    "    Factorial and x^n using Recursion"
   ]
  },
  {
   "cell_type": "code",
   "execution_count": 35,
   "metadata": {},
   "outputs": [
    {
     "name": "stdout",
     "output_type": "stream",
     "text": [
      "Enter number: 2\n",
      "invalid input\n"
     ]
    }
   ],
   "source": [
    "def fact(num):\n",
    "    if num <= 1:\n",
    "        return 1\n",
    "    else:\n",
    "        return  num * fact(num-1)\n",
    "\n",
    "num = input(\"Enter number: \")\n",
    "\n",
    "if  not isinstance(num, int):\n",
    "    print(\"invalid input\")\n",
    "else:\n",
    "    print (fact(int(num)))\n",
    "    "
   ]
  },
  {
   "cell_type": "code",
   "execution_count": 37,
   "metadata": {},
   "outputs": [
    {
     "name": "stdout",
     "output_type": "stream",
     "text": [
      "Enter number: 7\n",
      "Enter power: 7\n",
      "823543\n"
     ]
    }
   ],
   "source": [
    "num = int(input(\"Enter number: \"))\n",
    "deg = int(input(\"Enter power: \"))\n",
    "def power(num,deg):\n",
    "    if num == 1:\n",
    "        return num\n",
    "    elif deg == 1:\n",
    "        return num\n",
    "    else:\n",
    "        return  num * power(num, deg-1)\n",
    "print (power(num,deg))"
   ]
  },
  {
   "cell_type": "markdown",
   "metadata": {},
   "source": [
    "    Nth term of Fibonacci series - Recursive"
   ]
  },
  {
   "cell_type": "code",
   "execution_count": 44,
   "metadata": {},
   "outputs": [
    {
     "name": "stdout",
     "output_type": "stream",
     "text": [
      "Enter term no.: 20\n",
      "6765\n"
     ]
    }
   ],
   "source": [
    "term = int(input(\"Enter term no.: \"))\n",
    "def fib(term):\n",
    "    if term <= 2:\n",
    "        return 1\n",
    "    else:\n",
    "        return fib(term-1) + fib(term-2)\n",
    "    \n",
    "print (fib(term))"
   ]
  },
  {
   "cell_type": "markdown",
   "metadata": {},
   "source": []
  },
  {
   "cell_type": "code",
   "execution_count": null,
   "metadata": {},
   "outputs": [],
   "source": []
  }
 ],
 "metadata": {
  "kernelspec": {
   "display_name": "Python 3",
   "language": "python",
   "name": "python3"
  },
  "language_info": {
   "codemirror_mode": {
    "name": "ipython",
    "version": 3
   },
   "file_extension": ".py",
   "mimetype": "text/x-python",
   "name": "python",
   "nbconvert_exporter": "python",
   "pygments_lexer": "ipython3",
   "version": "3.8.3"
  }
 },
 "nbformat": 4,
 "nbformat_minor": 4
}
